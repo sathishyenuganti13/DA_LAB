{
 "cells": [
  {
   "cell_type": "code",
   "execution_count": 56,
   "id": "a3ed102e",
   "metadata": {},
   "outputs": [],
   "source": [
    "import pandas as pd\n",
    "import numpy  as np\n",
    "import matplotlib as plt\n"
   ]
  },
  {
   "cell_type": "markdown",
   "id": "2eebd49e",
   "metadata": {},
   "source": [
    "# 6.Mobile Phone Price Data set:\n"
   ]
  },
  {
   "cell_type": "raw",
   "id": "1a033f38",
   "metadata": {},
   "source": [
    "a)\tIdentify the models & the price released by each brand."
   ]
  },
  {
   "cell_type": "code",
   "execution_count": 14,
   "id": "fa0460b4",
   "metadata": {},
   "outputs": [
    {
     "data": {
      "text/html": [
       "<div>\n",
       "<style scoped>\n",
       "    .dataframe tbody tr th:only-of-type {\n",
       "        vertical-align: middle;\n",
       "    }\n",
       "\n",
       "    .dataframe tbody tr th {\n",
       "        vertical-align: top;\n",
       "    }\n",
       "\n",
       "    .dataframe thead th {\n",
       "        text-align: right;\n",
       "    }\n",
       "</style>\n",
       "<table border=\"1\" class=\"dataframe\">\n",
       "  <thead>\n",
       "    <tr style=\"text-align: right;\">\n",
       "      <th></th>\n",
       "      <th>Brand</th>\n",
       "      <th>Model</th>\n",
       "      <th>Storage</th>\n",
       "      <th>RAM</th>\n",
       "      <th>Screen Size (inches)</th>\n",
       "      <th>Camera (MP)</th>\n",
       "      <th>Battery Capacity (mAh)</th>\n",
       "      <th>Price ($)</th>\n",
       "    </tr>\n",
       "  </thead>\n",
       "  <tbody>\n",
       "    <tr>\n",
       "      <th>0</th>\n",
       "      <td>Apple</td>\n",
       "      <td>iPhone 13 Pro</td>\n",
       "      <td>128 GB</td>\n",
       "      <td>6 GB</td>\n",
       "      <td>6.1</td>\n",
       "      <td>12 + 12 + 12</td>\n",
       "      <td>3095</td>\n",
       "      <td>999</td>\n",
       "    </tr>\n",
       "    <tr>\n",
       "      <th>1</th>\n",
       "      <td>Samsung</td>\n",
       "      <td>Galaxy S21 Ultra</td>\n",
       "      <td>256 GB</td>\n",
       "      <td>12 GB</td>\n",
       "      <td>6.8</td>\n",
       "      <td>108 + 10 + 10 + 12</td>\n",
       "      <td>5000</td>\n",
       "      <td>1199</td>\n",
       "    </tr>\n",
       "    <tr>\n",
       "      <th>2</th>\n",
       "      <td>OnePlus</td>\n",
       "      <td>9 Pro</td>\n",
       "      <td>128 GB</td>\n",
       "      <td>8 GB</td>\n",
       "      <td>6.7</td>\n",
       "      <td>48 + 50 + 8 + 2</td>\n",
       "      <td>4500</td>\n",
       "      <td>899</td>\n",
       "    </tr>\n",
       "    <tr>\n",
       "      <th>3</th>\n",
       "      <td>Xiaomi</td>\n",
       "      <td>Redmi Note 10 Pro</td>\n",
       "      <td>128 GB</td>\n",
       "      <td>6 GB</td>\n",
       "      <td>6.67</td>\n",
       "      <td>64 + 8 + 5 + 2</td>\n",
       "      <td>5020</td>\n",
       "      <td>279</td>\n",
       "    </tr>\n",
       "    <tr>\n",
       "      <th>4</th>\n",
       "      <td>Google</td>\n",
       "      <td>Pixel 6</td>\n",
       "      <td>128 GB</td>\n",
       "      <td>8 GB</td>\n",
       "      <td>6.4</td>\n",
       "      <td>50 + 12.2</td>\n",
       "      <td>4614</td>\n",
       "      <td>799</td>\n",
       "    </tr>\n",
       "    <tr>\n",
       "      <th>...</th>\n",
       "      <td>...</td>\n",
       "      <td>...</td>\n",
       "      <td>...</td>\n",
       "      <td>...</td>\n",
       "      <td>...</td>\n",
       "      <td>...</td>\n",
       "      <td>...</td>\n",
       "      <td>...</td>\n",
       "    </tr>\n",
       "    <tr>\n",
       "      <th>402</th>\n",
       "      <td>Samsung</td>\n",
       "      <td>Galaxy Note20 5G</td>\n",
       "      <td>128</td>\n",
       "      <td>8</td>\n",
       "      <td>6.7</td>\n",
       "      <td>12+64+12</td>\n",
       "      <td>4300</td>\n",
       "      <td>1049</td>\n",
       "    </tr>\n",
       "    <tr>\n",
       "      <th>403</th>\n",
       "      <td>Xiaomi</td>\n",
       "      <td>Mi 10 Lite 5G</td>\n",
       "      <td>128</td>\n",
       "      <td>6</td>\n",
       "      <td>6.57</td>\n",
       "      <td>48+8+2+2</td>\n",
       "      <td>4160</td>\n",
       "      <td>349</td>\n",
       "    </tr>\n",
       "    <tr>\n",
       "      <th>404</th>\n",
       "      <td>Apple</td>\n",
       "      <td>iPhone 12 Pro Max</td>\n",
       "      <td>128</td>\n",
       "      <td>6</td>\n",
       "      <td>6.7</td>\n",
       "      <td>12+12+12</td>\n",
       "      <td>3687</td>\n",
       "      <td>1099</td>\n",
       "    </tr>\n",
       "    <tr>\n",
       "      <th>405</th>\n",
       "      <td>Oppo</td>\n",
       "      <td>Reno3</td>\n",
       "      <td>128</td>\n",
       "      <td>8</td>\n",
       "      <td>6.4</td>\n",
       "      <td>48+13+8+2</td>\n",
       "      <td>4025</td>\n",
       "      <td>429</td>\n",
       "    </tr>\n",
       "    <tr>\n",
       "      <th>406</th>\n",
       "      <td>Samsung</td>\n",
       "      <td>Galaxy S10 Lite</td>\n",
       "      <td>128</td>\n",
       "      <td>6</td>\n",
       "      <td>6.7</td>\n",
       "      <td>48+12+5</td>\n",
       "      <td>4500</td>\n",
       "      <td>649</td>\n",
       "    </tr>\n",
       "  </tbody>\n",
       "</table>\n",
       "<p>407 rows × 8 columns</p>\n",
       "</div>"
      ],
      "text/plain": [
       "       Brand              Model Storage    RAM  Screen Size (inches)  \\\n",
       "0      Apple      iPhone 13 Pro   128 GB   6 GB                  6.1   \n",
       "1    Samsung   Galaxy S21 Ultra   256 GB  12 GB                  6.8   \n",
       "2    OnePlus              9 Pro   128 GB   8 GB                  6.7   \n",
       "3     Xiaomi  Redmi Note 10 Pro   128 GB   6 GB                 6.67   \n",
       "4     Google            Pixel 6   128 GB   8 GB                  6.4   \n",
       "..       ...                ...      ...    ...                  ...   \n",
       "402  Samsung   Galaxy Note20 5G      128      8                  6.7   \n",
       "403   Xiaomi      Mi 10 Lite 5G      128      6                 6.57   \n",
       "404    Apple  iPhone 12 Pro Max      128      6                  6.7   \n",
       "405     Oppo              Reno3      128      8                  6.4   \n",
       "406  Samsung    Galaxy S10 Lite      128      6                  6.7   \n",
       "\n",
       "            Camera (MP)  Battery Capacity (mAh) Price ($)  \n",
       "0          12 + 12 + 12                    3095       999  \n",
       "1    108 + 10 + 10 + 12                    5000      1199  \n",
       "2       48 + 50 + 8 + 2                    4500       899  \n",
       "3        64 + 8 + 5 + 2                    5020       279  \n",
       "4             50 + 12.2                    4614       799  \n",
       "..                  ...                     ...       ...  \n",
       "402            12+64+12                    4300      1049  \n",
       "403            48+8+2+2                    4160       349  \n",
       "404            12+12+12                    3687      1099  \n",
       "405           48+13+8+2                    4025       429  \n",
       "406             48+12+5                    4500       649  \n",
       "\n",
       "[407 rows x 8 columns]"
      ]
     },
     "metadata": {},
     "output_type": "display_data"
    },
    {
     "data": {
      "text/html": [
       "<div>\n",
       "<style scoped>\n",
       "    .dataframe tbody tr th:only-of-type {\n",
       "        vertical-align: middle;\n",
       "    }\n",
       "\n",
       "    .dataframe tbody tr th {\n",
       "        vertical-align: top;\n",
       "    }\n",
       "\n",
       "    .dataframe thead th {\n",
       "        text-align: right;\n",
       "    }\n",
       "</style>\n",
       "<table border=\"1\" class=\"dataframe\">\n",
       "  <thead>\n",
       "    <tr style=\"text-align: right;\">\n",
       "      <th></th>\n",
       "      <th>Brand</th>\n",
       "      <th>Model</th>\n",
       "      <th>Price ($)</th>\n",
       "    </tr>\n",
       "  </thead>\n",
       "  <tbody>\n",
       "    <tr>\n",
       "      <th>0</th>\n",
       "      <td>Apple</td>\n",
       "      <td>iPhone 13 Pro</td>\n",
       "      <td>999</td>\n",
       "    </tr>\n",
       "    <tr>\n",
       "      <th>1</th>\n",
       "      <td>Samsung</td>\n",
       "      <td>Galaxy S21 Ultra</td>\n",
       "      <td>1199</td>\n",
       "    </tr>\n",
       "    <tr>\n",
       "      <th>2</th>\n",
       "      <td>OnePlus</td>\n",
       "      <td>9 Pro</td>\n",
       "      <td>899</td>\n",
       "    </tr>\n",
       "    <tr>\n",
       "      <th>3</th>\n",
       "      <td>Xiaomi</td>\n",
       "      <td>Redmi Note 10 Pro</td>\n",
       "      <td>279</td>\n",
       "    </tr>\n",
       "    <tr>\n",
       "      <th>4</th>\n",
       "      <td>Google</td>\n",
       "      <td>Pixel 6</td>\n",
       "      <td>799</td>\n",
       "    </tr>\n",
       "    <tr>\n",
       "      <th>...</th>\n",
       "      <td>...</td>\n",
       "      <td>...</td>\n",
       "      <td>...</td>\n",
       "    </tr>\n",
       "    <tr>\n",
       "      <th>402</th>\n",
       "      <td>Samsung</td>\n",
       "      <td>Galaxy Note20 5G</td>\n",
       "      <td>1049</td>\n",
       "    </tr>\n",
       "    <tr>\n",
       "      <th>403</th>\n",
       "      <td>Xiaomi</td>\n",
       "      <td>Mi 10 Lite 5G</td>\n",
       "      <td>349</td>\n",
       "    </tr>\n",
       "    <tr>\n",
       "      <th>404</th>\n",
       "      <td>Apple</td>\n",
       "      <td>iPhone 12 Pro Max</td>\n",
       "      <td>1099</td>\n",
       "    </tr>\n",
       "    <tr>\n",
       "      <th>405</th>\n",
       "      <td>Oppo</td>\n",
       "      <td>Reno3</td>\n",
       "      <td>429</td>\n",
       "    </tr>\n",
       "    <tr>\n",
       "      <th>406</th>\n",
       "      <td>Samsung</td>\n",
       "      <td>Galaxy S10 Lite</td>\n",
       "      <td>649</td>\n",
       "    </tr>\n",
       "  </tbody>\n",
       "</table>\n",
       "<p>407 rows × 3 columns</p>\n",
       "</div>"
      ],
      "text/plain": [
       "       Brand              Model Price ($)\n",
       "0      Apple      iPhone 13 Pro       999\n",
       "1    Samsung   Galaxy S21 Ultra      1199\n",
       "2    OnePlus              9 Pro       899\n",
       "3     Xiaomi  Redmi Note 10 Pro       279\n",
       "4     Google            Pixel 6       799\n",
       "..       ...                ...       ...\n",
       "402  Samsung   Galaxy Note20 5G      1049\n",
       "403   Xiaomi      Mi 10 Lite 5G       349\n",
       "404    Apple  iPhone 12 Pro Max      1099\n",
       "405     Oppo              Reno3       429\n",
       "406  Samsung    Galaxy S10 Lite       649\n",
       "\n",
       "[407 rows x 3 columns]"
      ]
     },
     "execution_count": 14,
     "metadata": {},
     "output_type": "execute_result"
    }
   ],
   "source": [
    "data=pd.read_csv(\"Mobile phone price_6thQuestion.csv\")\n",
    "display(data)\n",
    "\n",
    "data[[\"Brand\",\"Model\",\"Price ($)\"]]"
   ]
  },
  {
   "cell_type": "markdown",
   "id": "98fb29f1",
   "metadata": {},
   "source": [
    "b)\tIdentify the correlation between Battery Capacity and price."
   ]
  },
  {
   "cell_type": "code",
   "execution_count": 25,
   "id": "433242af",
   "metadata": {},
   "outputs": [
    {
     "name": "stdout",
     "output_type": "stream",
     "text": [
      "-0.39658137643652003\n"
     ]
    }
   ],
   "source": [
    "lst=[]\n",
    "for i in data[\"Price ($)\"]:\n",
    "    if \",\" in i:\n",
    "        i=(i.replace(',',''))\n",
    "    if \"$\" in i:\n",
    "        lst.append(i[1:])\n",
    "    else:\n",
    "        lst.append(int(i))\n",
    "data['Price']=lst\n",
    "print(data[\"Battery Capacity (mAh)\"].corr(data[\"Price\"]))"
   ]
  },
  {
   "cell_type": "raw",
   "id": "e4d37dda",
   "metadata": {},
   "source": [
    "c)\tFind how many models are there per each Battery capacity with same price."
   ]
  },
  {
   "cell_type": "code",
   "execution_count": 82,
   "id": "0f0750e9",
   "metadata": {},
   "outputs": [
    {
     "data": {
      "text/plain": [
       "Battery Capacity (mAh)  Price\n",
       "1821                    399      [iPhone SE (2nd Gen), iPhone SE (2020)]\n",
       "                        449                           [iPhone SE (2020)]\n",
       "2227                    699                             [iPhone 12 Mini]\n",
       "                        899                             [iPhone 12 mini]\n",
       "2691                    699                              [iPhone 8 Plus]\n",
       "                                                  ...                   \n",
       "6000                    349                                [Galaxy M31s]\n",
       "                        379                                [Galaxy M31s]\n",
       "                        999                                [ROG Phone 5]\n",
       "7000                    429                                 [Galaxy M62]\n",
       "                        449                                 [Galaxy M51]\n",
       "Name: Model, Length: 179, dtype: object"
      ]
     },
     "execution_count": 82,
     "metadata": {},
     "output_type": "execute_result"
    }
   ],
   "source": [
    "data.groupby([\"Battery Capacity (mAh)\",\"Price\"])[\"Model\"].unique()\n",
    "\n",
    "#data.groupby(['Battery Capacity (mAh)', 'Price']).filter(lambda x: x['Model'].nunique() > 1)['Model'].unique().size\n"
   ]
  },
  {
   "cell_type": "raw",
   "id": "987f9e42",
   "metadata": {},
   "source": [
    "d)\tCount the number of models in each brand with highest storage. Draw the graph."
   ]
  },
  {
   "cell_type": "code",
   "execution_count": 73,
   "id": "f10a0c35",
   "metadata": {},
   "outputs": [
    {
     "data": {
      "text/plain": [
       "array(['Apple', 'Samsung', 'OnePlus', 'Xiaomi', 'Google', 'Oppo', 'Vivo',\n",
       "       'Realme', 'Motorola', 'Nokia', 'Sony', 'LG', 'Asus', 'Blackberry',\n",
       "       'CAT', 'Huawei'], dtype=object)"
      ]
     },
     "metadata": {},
     "output_type": "display_data"
    }
   ],
   "source": [
    "a=data.groupby([\"Brand\"])[\"Storage \"].max()\n",
    "\n",
    "#plt.bar(a)\n",
    "display(data[\"Brand\"].unique())\n",
    "#a"
   ]
  },
  {
   "cell_type": "raw",
   "id": "651cb931",
   "metadata": {},
   "source": [
    "e)\tIdentify how many models are released by each brand."
   ]
  },
  {
   "cell_type": "code",
   "execution_count": 78,
   "id": "ccec6674",
   "metadata": {},
   "outputs": [
    {
     "data": {
      "text/plain": [
       "Brand\n",
       "Apple         30\n",
       "Asus           4\n",
       "Blackberry     3\n",
       "CAT            1\n",
       "Google         7\n",
       "Huawei        12\n",
       "LG             3\n",
       "Motorola      23\n",
       "Nokia         28\n",
       "OnePlus       15\n",
       "Oppo          56\n",
       "Realme        43\n",
       "Samsung       79\n",
       "Sony           1\n",
       "Vivo          35\n",
       "Xiaomi        67\n",
       "Name: Model, dtype: int64"
      ]
     },
     "execution_count": 78,
     "metadata": {},
     "output_type": "execute_result"
    }
   ],
   "source": [
    "data.groupby(\"Brand\")[\"Model\"].count()"
   ]
  },
  {
   "cell_type": "raw",
   "id": "768bbf14",
   "metadata": {},
   "source": [
    "f)\tFind the RAM capacity of all models of every brand."
   ]
  },
  {
   "cell_type": "code",
   "execution_count": 106,
   "id": "9b57ea03",
   "metadata": {},
   "outputs": [
    {
     "data": {
      "text/plain": [
       "Brand   Model               \n",
       "Apple   iPhone 11               [4]\n",
       "        iPhone 11 Pro Max       [4]\n",
       "        iPhone 12               [4]\n",
       "        iPhone 12 Mini          [4]\n",
       "        iPhone 12 Pro           [6]\n",
       "                               ... \n",
       "Xiaomi  Redmi Note 10S          [6]\n",
       "        Redmi Note 7            [4]\n",
       "        Redmi Note 8            [4]\n",
       "        Redmi Note 9 Pro Max    [6]\n",
       "        Redmi Note 9S           [6]\n",
       "Name: RAM, Length: 239, dtype: object"
      ]
     },
     "execution_count": 106,
     "metadata": {},
     "output_type": "execute_result"
    }
   ],
   "source": [
    "data['RAM'] = [int(i) if 'GB' not in i else int(i[:-2]) for i in data['RAM ']]\n",
    "data[\"RAM\"]\n",
    "\n",
    "\n",
    "data.groupby([\"Brand\",\"Model\"])[\"RAM\"].unique()"
   ]
  },
  {
   "cell_type": "raw",
   "id": "14143c67",
   "metadata": {},
   "source": [
    "g)\tIdentify the correlation between Battery Capacity and price."
   ]
  },
  {
   "cell_type": "code",
   "execution_count": 107,
   "id": "ccbbc5b2",
   "metadata": {},
   "outputs": [
    {
     "name": "stdout",
     "output_type": "stream",
     "text": [
      "-0.39658137643652003\n"
     ]
    }
   ],
   "source": [
    "print(data[\"Battery Capacity (mAh)\"].corr(data[\"Price\"]))"
   ]
  },
  {
   "cell_type": "raw",
   "id": "29da9c7d",
   "metadata": {},
   "source": [
    "h)\tFind how many models are there per each Battery capacity."
   ]
  },
  {
   "cell_type": "code",
   "execution_count": 109,
   "id": "66d4e2fe",
   "metadata": {},
   "outputs": [],
   "source": [
    "#data.groupby(\"Battery Capacity (mAh)\")[\"Model\"].count()"
   ]
  },
  {
   "cell_type": "raw",
   "id": "f307e438",
   "metadata": {},
   "source": [
    "i)\tCalculate average price of each brand."
   ]
  },
  {
   "cell_type": "code",
   "execution_count": 120,
   "id": "7ffdd545",
   "metadata": {},
   "outputs": [
    {
     "data": {
      "text/plain": [
       "Brand\n",
       "Apple          745.666667\n",
       "Asus           874.000000\n",
       "Blackberry     499.000000\n",
       "CAT            299.000000\n",
       "Google         699.000000\n",
       "Huawei         783.166667\n",
       "LG             615.666667\n",
       "Motorola       278.130435\n",
       "Nokia          244.714286\n",
       "OnePlus        644.333333\n",
       "Oppo           376.142857\n",
       "Realme         206.906977\n",
       "Samsung        480.405063\n",
       "Sony          1299.000000\n",
       "Vivo           323.000000\n",
       "Xiaomi         282.880597\n",
       "Name: Price, dtype: float64"
      ]
     },
     "execution_count": 120,
     "metadata": {},
     "output_type": "execute_result"
    }
   ],
   "source": [
    "data.groupby([\"Brand\"])[\"Price\"].mean()"
   ]
  },
  {
   "cell_type": "raw",
   "id": "1de4df61",
   "metadata": {},
   "source": [
    "j)\tFind which mobile brand has highest price."
   ]
  },
  {
   "cell_type": "code",
   "execution_count": 123,
   "id": "710e21aa",
   "metadata": {},
   "outputs": [
    {
     "data": {
      "text/plain": [
       "373    Samsung\n",
       "Name: Brand, dtype: object"
      ]
     },
     "execution_count": 123,
     "metadata": {},
     "output_type": "execute_result"
    }
   ],
   "source": [
    "data[data[\"Price\"].max() == data[\"Price\"]].Brand"
   ]
  },
  {
   "cell_type": "raw",
   "id": "bb38ed7b",
   "metadata": {},
   "source": [
    "k)\tIdentify any missing values are there in mobile phone price dataset."
   ]
  },
  {
   "cell_type": "code",
   "execution_count": 128,
   "id": "f1d8aefb",
   "metadata": {},
   "outputs": [
    {
     "data": {
      "text/plain": [
       "0"
      ]
     },
     "execution_count": 128,
     "metadata": {},
     "output_type": "execute_result"
    }
   ],
   "source": [
    "data[\"Price\"].isnull().sum()"
   ]
  },
  {
   "cell_type": "raw",
   "id": "ab5cb526",
   "metadata": {},
   "source": [
    "l)\tDisplay all models associated with apple brand."
   ]
  },
  {
   "cell_type": "code",
   "execution_count": 130,
   "id": "aec9cd19",
   "metadata": {},
   "outputs": [
    {
     "name": "stdout",
     "output_type": "stream",
     "text": [
      "['iPhone 13 Pro' 'iPhone 13' 'iPhone 12 Mini' 'iPhone 11'\n",
      " 'iPhone SE (2nd Gen)' 'iPhone XR' 'iPhone 11 Pro Max' 'iPhone 13 Pro Max'\n",
      " 'iPhone SE (2020)' 'iPhone 12' 'iPhone XS Max' 'iPhone 8 Plus'\n",
      " 'iPhone 12 mini' 'iPhone 12 Pro' 'iPhone 12 Pro Max']\n"
     ]
    }
   ],
   "source": [
    "print(data[data[\"Brand\"] == \"Apple\"][\"Model\"].unique())"
   ]
  },
  {
   "cell_type": "raw",
   "id": "c2ab70fa",
   "metadata": {},
   "source": [
    "m)\tFind the mobile prices based on Camera (MP)."
   ]
  },
  {
   "cell_type": "code",
   "execution_count": 132,
   "id": "37e73dc5",
   "metadata": {},
   "outputs": [
    {
     "data": {
      "text/plain": [
       "Camera (MP)\n",
       "108 + 10 + 10 + 12                                [1199]\n",
       "108 + 8 + 5 + 2                                    [279]\n",
       "108+10+10+12                                      [1199]\n",
       "108+12+12                                         [1299]\n",
       "108+13+5                                      [749, 599]\n",
       "                                       ...              \n",
       "64MP + 8MP + 5MP          [399, 309, 329, 239, 429, 249]\n",
       "64MP + 8MP + 5MP + 2MP                   [279, 299, 329]\n",
       "64MP + 8MP + 5MP + 5MP                        [279, 269]\n",
       "8MP                                                 [99]\n",
       "8MP + 2MP                            [99, 109, 119, 129]\n",
       "Name: Price, Length: 143, dtype: object"
      ]
     },
     "execution_count": 132,
     "metadata": {},
     "output_type": "execute_result"
    }
   ],
   "source": [
    "data.groupby(\"Camera (MP)\")[\"Price\"].unique()"
   ]
  },
  {
   "cell_type": "raw",
   "id": "715559ad",
   "metadata": {},
   "source": [
    "n)\tList the models along with brands which have highest storage."
   ]
  },
  {
   "cell_type": "code",
   "execution_count": null,
   "id": "2c97094b",
   "metadata": {},
   "outputs": [],
   "source": [
    "data.query(' Model,Brand')"
   ]
  },
  {
   "cell_type": "raw",
   "id": "2f6c1fa4",
   "metadata": {},
   "source": [
    "o)\tHow many models in each brand having RAM>6."
   ]
  },
  {
   "cell_type": "code",
   "execution_count": null,
   "id": "ab0aff14",
   "metadata": {},
   "outputs": [],
   "source": []
  },
  {
   "cell_type": "raw",
   "id": "1f2fc859",
   "metadata": {},
   "source": [
    "p)\tList the models having price >600 and Storage between 100 and 200."
   ]
  },
  {
   "cell_type": "code",
   "execution_count": null,
   "id": "7623bfed",
   "metadata": {},
   "outputs": [],
   "source": []
  },
  {
   "cell_type": "code",
   "execution_count": null,
   "id": "6610637f",
   "metadata": {},
   "outputs": [],
   "source": []
  },
  {
   "cell_type": "code",
   "execution_count": null,
   "id": "70844e7f",
   "metadata": {},
   "outputs": [],
   "source": []
  },
  {
   "cell_type": "code",
   "execution_count": null,
   "id": "8d283454",
   "metadata": {},
   "outputs": [],
   "source": []
  }
 ],
 "metadata": {
  "kernelspec": {
   "display_name": "Python 3 (ipykernel)",
   "language": "python",
   "name": "python3"
  },
  "language_info": {
   "codemirror_mode": {
    "name": "ipython",
    "version": 3
   },
   "file_extension": ".py",
   "mimetype": "text/x-python",
   "name": "python",
   "nbconvert_exporter": "python",
   "pygments_lexer": "ipython3",
   "version": "3.11.3"
  }
 },
 "nbformat": 4,
 "nbformat_minor": 5
}
